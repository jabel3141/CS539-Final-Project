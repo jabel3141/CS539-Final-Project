{
 "cells": [
  {
   "cell_type": "code",
   "execution_count": 1,
   "metadata": {
    "_cell_guid": "b1076dfc-b9ad-4769-8c92-a6c4dae69d19",
    "_uuid": "8f2839f25d086af736a60e9eeb907d3b93b6e0e5"
   },
   "outputs": [
    {
     "name": "stdout",
     "output_type": "stream",
     "text": [
      "/kaggle/input/data-science-bowl-2019/sample_submission.csv\n",
      "/kaggle/input/data-science-bowl-2019/specs.csv\n",
      "/kaggle/input/data-science-bowl-2019/train_labels.csv\n",
      "/kaggle/input/data-science-bowl-2019/train.csv\n",
      "/kaggle/input/data-science-bowl-2019/test.csv\n"
     ]
    }
   ],
   "source": [
    "# This Python 3 environment comes with many helpful analytics libraries installed\n",
    "# It is defined by the kaggle/python docker image: https://github.com/kaggle/docker-python\n",
    "# For example, here's several helpful packages to load in \n",
    "\n",
    "import numpy as np # linear algebra\n",
    "import pandas as pd # data processing, CSV file I/O (e.g. pd.read_csv)\n",
    "\n",
    "# Input data files are available in the \"../input/\" directory.\n",
    "# For example, running this (by clicking run or pressing Shift+Enter) will list all files under the input directory\n",
    "\n",
    "import os\n",
    "for dirname, _, filenames in os.walk('/kaggle/input'):\n",
    "    for filename in filenames:\n",
    "        print(os.path.join(dirname, filename))\n",
    "\n",
    "# Any results you write to the current directory are saved as output."
   ]
  },
  {
   "cell_type": "code",
   "execution_count": 2,
   "metadata": {
    "_cell_guid": "79c7e3d0-c299-4dcb-8224-4455121ee9b0",
    "_uuid": "d629ff2d2480ee46fbb7e2d37f6b5fab8052498a"
   },
   "outputs": [],
   "source": [
    "train = pd.read_csv('/kaggle/input/data-science-bowl-2019/train.csv')\n",
    "test = pd.read_csv('/kaggle/input/data-science-bowl-2019/test.csv')\n",
    "label = pd.read_csv('/kaggle/input/data-science-bowl-2019/train_labels.csv')"
   ]
  },
  {
   "cell_type": "code",
   "execution_count": 3,
   "metadata": {},
   "outputs": [
    {
     "data": {
      "text/html": [
       "<div>\n",
       "<style scoped>\n",
       "    .dataframe tbody tr th:only-of-type {\n",
       "        vertical-align: middle;\n",
       "    }\n",
       "\n",
       "    .dataframe tbody tr th {\n",
       "        vertical-align: top;\n",
       "    }\n",
       "\n",
       "    .dataframe thead th {\n",
       "        text-align: right;\n",
       "    }\n",
       "</style>\n",
       "<table border=\"1\" class=\"dataframe\">\n",
       "  <thead>\n",
       "    <tr style=\"text-align: right;\">\n",
       "      <th></th>\n",
       "      <th>event_id</th>\n",
       "      <th>game_session</th>\n",
       "      <th>timestamp</th>\n",
       "      <th>event_data</th>\n",
       "      <th>installation_id</th>\n",
       "      <th>event_count</th>\n",
       "      <th>event_code</th>\n",
       "      <th>game_time</th>\n",
       "      <th>title</th>\n",
       "      <th>type</th>\n",
       "      <th>world</th>\n",
       "    </tr>\n",
       "  </thead>\n",
       "  <tbody>\n",
       "    <tr>\n",
       "      <th>0</th>\n",
       "      <td>27253bdc</td>\n",
       "      <td>45bb1e1b6b50c07b</td>\n",
       "      <td>2019-09-06T17:53:46.937Z</td>\n",
       "      <td>{\"event_code\": 2000, \"event_count\": 1}</td>\n",
       "      <td>0001e90f</td>\n",
       "      <td>1</td>\n",
       "      <td>2000</td>\n",
       "      <td>0</td>\n",
       "      <td>Welcome to Lost Lagoon!</td>\n",
       "      <td>Clip</td>\n",
       "      <td>NONE</td>\n",
       "    </tr>\n",
       "    <tr>\n",
       "      <th>1</th>\n",
       "      <td>27253bdc</td>\n",
       "      <td>17eeb7f223665f53</td>\n",
       "      <td>2019-09-06T17:54:17.519Z</td>\n",
       "      <td>{\"event_code\": 2000, \"event_count\": 1}</td>\n",
       "      <td>0001e90f</td>\n",
       "      <td>1</td>\n",
       "      <td>2000</td>\n",
       "      <td>0</td>\n",
       "      <td>Magma Peak - Level 1</td>\n",
       "      <td>Clip</td>\n",
       "      <td>MAGMAPEAK</td>\n",
       "    </tr>\n",
       "    <tr>\n",
       "      <th>2</th>\n",
       "      <td>77261ab5</td>\n",
       "      <td>0848ef14a8dc6892</td>\n",
       "      <td>2019-09-06T17:54:56.302Z</td>\n",
       "      <td>{\"version\":\"1.0\",\"event_count\":1,\"game_time\":0...</td>\n",
       "      <td>0001e90f</td>\n",
       "      <td>1</td>\n",
       "      <td>2000</td>\n",
       "      <td>0</td>\n",
       "      <td>Sandcastle Builder (Activity)</td>\n",
       "      <td>Activity</td>\n",
       "      <td>MAGMAPEAK</td>\n",
       "    </tr>\n",
       "    <tr>\n",
       "      <th>3</th>\n",
       "      <td>b2dba42b</td>\n",
       "      <td>0848ef14a8dc6892</td>\n",
       "      <td>2019-09-06T17:54:56.387Z</td>\n",
       "      <td>{\"description\":\"Let's build a sandcastle! Firs...</td>\n",
       "      <td>0001e90f</td>\n",
       "      <td>2</td>\n",
       "      <td>3010</td>\n",
       "      <td>53</td>\n",
       "      <td>Sandcastle Builder (Activity)</td>\n",
       "      <td>Activity</td>\n",
       "      <td>MAGMAPEAK</td>\n",
       "    </tr>\n",
       "    <tr>\n",
       "      <th>4</th>\n",
       "      <td>1bb5fbdb</td>\n",
       "      <td>0848ef14a8dc6892</td>\n",
       "      <td>2019-09-06T17:55:03.253Z</td>\n",
       "      <td>{\"description\":\"Let's build a sandcastle! Firs...</td>\n",
       "      <td>0001e90f</td>\n",
       "      <td>3</td>\n",
       "      <td>3110</td>\n",
       "      <td>6972</td>\n",
       "      <td>Sandcastle Builder (Activity)</td>\n",
       "      <td>Activity</td>\n",
       "      <td>MAGMAPEAK</td>\n",
       "    </tr>\n",
       "  </tbody>\n",
       "</table>\n",
       "</div>"
      ],
      "text/plain": [
       "   event_id      game_session                 timestamp  \\\n",
       "0  27253bdc  45bb1e1b6b50c07b  2019-09-06T17:53:46.937Z   \n",
       "1  27253bdc  17eeb7f223665f53  2019-09-06T17:54:17.519Z   \n",
       "2  77261ab5  0848ef14a8dc6892  2019-09-06T17:54:56.302Z   \n",
       "3  b2dba42b  0848ef14a8dc6892  2019-09-06T17:54:56.387Z   \n",
       "4  1bb5fbdb  0848ef14a8dc6892  2019-09-06T17:55:03.253Z   \n",
       "\n",
       "                                          event_data installation_id  \\\n",
       "0             {\"event_code\": 2000, \"event_count\": 1}        0001e90f   \n",
       "1             {\"event_code\": 2000, \"event_count\": 1}        0001e90f   \n",
       "2  {\"version\":\"1.0\",\"event_count\":1,\"game_time\":0...        0001e90f   \n",
       "3  {\"description\":\"Let's build a sandcastle! Firs...        0001e90f   \n",
       "4  {\"description\":\"Let's build a sandcastle! Firs...        0001e90f   \n",
       "\n",
       "   event_count  event_code  game_time                          title  \\\n",
       "0            1        2000          0        Welcome to Lost Lagoon!   \n",
       "1            1        2000          0           Magma Peak - Level 1   \n",
       "2            1        2000          0  Sandcastle Builder (Activity)   \n",
       "3            2        3010         53  Sandcastle Builder (Activity)   \n",
       "4            3        3110       6972  Sandcastle Builder (Activity)   \n",
       "\n",
       "       type      world  \n",
       "0      Clip       NONE  \n",
       "1      Clip  MAGMAPEAK  \n",
       "2  Activity  MAGMAPEAK  \n",
       "3  Activity  MAGMAPEAK  \n",
       "4  Activity  MAGMAPEAK  "
      ]
     },
     "execution_count": 3,
     "metadata": {},
     "output_type": "execute_result"
    }
   ],
   "source": [
    "train.head()"
   ]
  },
  {
   "cell_type": "code",
   "execution_count": 4,
   "metadata": {},
   "outputs": [
    {
     "data": {
      "text/plain": [
       "<matplotlib.axes._subplots.AxesSubplot at 0x7fd98a0a4080>"
      ]
     },
     "execution_count": 4,
     "metadata": {},
     "output_type": "execute_result"
    },
    {
     "data": {
      "image/png": "[encoded data removed]",
      "text/plain": [
       "<Figure size 432x288 with 1 Axes>"
      ]
     },
     "metadata": {
      "needs_background": "light"
     },
     "output_type": "display_data"
    }
   ],
   "source": [
    "label['accuracy_group'].hist()"
   ]
  },
  {
   "cell_type": "code",
   "execution_count": 5,
   "metadata": {},
   "outputs": [
    {
     "data": {
      "text/html": [
       "<div>\n",
       "<style scoped>\n",
       "    .dataframe tbody tr th:only-of-type {\n",
       "        vertical-align: middle;\n",
       "    }\n",
       "\n",
       "    .dataframe tbody tr th {\n",
       "        vertical-align: top;\n",
       "    }\n",
       "\n",
       "    .dataframe thead th {\n",
       "        text-align: right;\n",
       "    }\n",
       "</style>\n",
       "<table border=\"1\" class=\"dataframe\">\n",
       "  <thead>\n",
       "    <tr style=\"text-align: right;\">\n",
       "      <th></th>\n",
       "      <th>game_session</th>\n",
       "      <th>title</th>\n",
       "      <th>num_correct</th>\n",
       "      <th>num_incorrect</th>\n",
       "      <th>accuracy</th>\n",
       "      <th>accuracy_group</th>\n",
       "    </tr>\n",
       "    <tr>\n",
       "      <th>installation_id</th>\n",
       "      <th></th>\n",
       "      <th></th>\n",
       "      <th></th>\n",
       "      <th></th>\n",
       "      <th></th>\n",
       "      <th></th>\n",
       "    </tr>\n",
       "  </thead>\n",
       "  <tbody>\n",
       "    <tr>\n",
       "      <th>0006a69f</th>\n",
       "      <td>5</td>\n",
       "      <td>5</td>\n",
       "      <td>5</td>\n",
       "      <td>5</td>\n",
       "      <td>5</td>\n",
       "      <td>5</td>\n",
       "    </tr>\n",
       "    <tr>\n",
       "      <th>0006c192</th>\n",
       "      <td>3</td>\n",
       "      <td>3</td>\n",
       "      <td>3</td>\n",
       "      <td>3</td>\n",
       "      <td>3</td>\n",
       "      <td>3</td>\n",
       "    </tr>\n",
       "    <tr>\n",
       "      <th>00129856</th>\n",
       "      <td>1</td>\n",
       "      <td>1</td>\n",
       "      <td>1</td>\n",
       "      <td>1</td>\n",
       "      <td>1</td>\n",
       "      <td>1</td>\n",
       "    </tr>\n",
       "    <tr>\n",
       "      <th>001d0ed0</th>\n",
       "      <td>5</td>\n",
       "      <td>5</td>\n",
       "      <td>5</td>\n",
       "      <td>5</td>\n",
       "      <td>5</td>\n",
       "      <td>5</td>\n",
       "    </tr>\n",
       "    <tr>\n",
       "      <th>00225f67</th>\n",
       "      <td>1</td>\n",
       "      <td>1</td>\n",
       "      <td>1</td>\n",
       "      <td>1</td>\n",
       "      <td>1</td>\n",
       "      <td>1</td>\n",
       "    </tr>\n",
       "    <tr>\n",
       "      <th>...</th>\n",
       "      <td>...</td>\n",
       "      <td>...</td>\n",
       "      <td>...</td>\n",
       "      <td>...</td>\n",
       "      <td>...</td>\n",
       "      <td>...</td>\n",
       "    </tr>\n",
       "    <tr>\n",
       "      <th>ff9305d7</th>\n",
       "      <td>4</td>\n",
       "      <td>4</td>\n",
       "      <td>4</td>\n",
       "      <td>4</td>\n",
       "      <td>4</td>\n",
       "      <td>4</td>\n",
       "    </tr>\n",
       "    <tr>\n",
       "      <th>ff9715db</th>\n",
       "      <td>9</td>\n",
       "      <td>9</td>\n",
       "      <td>9</td>\n",
       "      <td>9</td>\n",
       "      <td>9</td>\n",
       "      <td>9</td>\n",
       "    </tr>\n",
       "    <tr>\n",
       "      <th>ffc90c32</th>\n",
       "      <td>6</td>\n",
       "      <td>6</td>\n",
       "      <td>6</td>\n",
       "      <td>6</td>\n",
       "      <td>6</td>\n",
       "      <td>6</td>\n",
       "    </tr>\n",
       "    <tr>\n",
       "      <th>ffd2871d</th>\n",
       "      <td>1</td>\n",
       "      <td>1</td>\n",
       "      <td>1</td>\n",
       "      <td>1</td>\n",
       "      <td>1</td>\n",
       "      <td>1</td>\n",
       "    </tr>\n",
       "    <tr>\n",
       "      <th>ffeb0b1b</th>\n",
       "      <td>3</td>\n",
       "      <td>3</td>\n",
       "      <td>3</td>\n",
       "      <td>3</td>\n",
       "      <td>3</td>\n",
       "      <td>3</td>\n",
       "    </tr>\n",
       "  </tbody>\n",
       "</table>\n",
       "<p>3614 rows × 6 columns</p>\n",
       "</div>"
      ],
      "text/plain": [
       "                 game_session  title  num_correct  num_incorrect  accuracy  \\\n",
       "installation_id                                                              \n",
       "0006a69f                    5      5            5              5         5   \n",
       "0006c192                    3      3            3              3         3   \n",
       "00129856                    1      1            1              1         1   \n",
       "001d0ed0                    5      5            5              5         5   \n",
       "00225f67                    1      1            1              1         1   \n",
       "...                       ...    ...          ...            ...       ...   \n",
       "ff9305d7                    4      4            4              4         4   \n",
       "ff9715db                    9      9            9              9         9   \n",
       "ffc90c32                    6      6            6              6         6   \n",
       "ffd2871d                    1      1            1              1         1   \n",
       "ffeb0b1b                    3      3            3              3         3   \n",
       "\n",
       "                 accuracy_group  \n",
       "installation_id                  \n",
       "0006a69f                      5  \n",
       "0006c192                      3  \n",
       "00129856                      1  \n",
       "001d0ed0                      5  \n",
       "00225f67                      1  \n",
       "...                         ...  \n",
       "ff9305d7                      4  \n",
       "ff9715db                      9  \n",
       "ffc90c32                      6  \n",
       "ffd2871d                      1  \n",
       "ffeb0b1b                      3  \n",
       "\n",
       "[3614 rows x 6 columns]"
      ]
     },
     "execution_count": 5,
     "metadata": {},
     "output_type": "execute_result"
    }
   ],
   "source": [
    "label.groupby(['installation_id']).count()"
   ]
  },
  {
   "cell_type": "code",
   "execution_count": 6,
   "metadata": {},
   "outputs": [],
   "source": [
    "train.timestamp=pd.to_datetime(train['timestamp'])"
   ]
  },
  {
   "cell_type": "markdown",
   "metadata": {},
   "source": [
    "**Firstly, using 'event_id' as sequenctial input to predict the accuracy-group of each assessment game."
   ]
  },
  {
   "cell_type": "code",
   "execution_count": 7,
   "metadata": {},
   "outputs": [
    {
     "name": "stderr",
     "output_type": "stream",
     "text": [
      "Using TensorFlow backend.\n"
     ]
    }
   ],
   "source": [
    "from more_itertools import sliced\n",
    "from keras.models import Sequential\n",
    "from keras.layers import Dense, LSTM, Embedding, SpatialDropout1D\n",
    "from keras.preprocessing.text import Tokenizer\n",
    "from keras.preprocessing.sequence import pad_sequences\n",
    "from sklearn.model_selection import train_test_split\n",
    "from keras.callbacks.callbacks import EarlyStopping"
   ]
  },
  {
   "cell_type": "code",
   "execution_count": 8,
   "metadata": {},
   "outputs": [
    {
     "name": "stderr",
     "output_type": "stream",
     "text": [
      "/opt/conda/lib/python3.6/site-packages/ipykernel_launcher.py:3: SettingWithCopyWarning: \n",
      "A value is trying to be set on a copy of a slice from a DataFrame.\n",
      "Try using .loc[row_indexer,col_indexer] = value instead\n",
      "\n",
      "See the caveats in the documentation: http://pandas.pydata.org/pandas-docs/stable/user_guide/indexing.html#returning-a-view-versus-a-copy\n",
      "  This is separate from the ipykernel package so we can avoid doing imports until\n"
     ]
    }
   ],
   "source": [
    "merged = train.merge(label, how='inner', on=['installation_id','game_session'])\n",
    "train_data = merged[['installation_id','game_session','event_code']]\n",
    "train_data['event_code'] = train_data['event_code'].apply(str)"
   ]
  },
  {
   "cell_type": "code",
   "execution_count": 9,
   "metadata": {},
   "outputs": [],
   "source": [
    "def events_add(event_code):\n",
    "    event_list = ''\n",
    "    for i in event_code: \n",
    "        event_list += i + ' '\n",
    "    event_list = event_list.rstrip()\n",
    "    return event_list"
   ]
  },
  {
   "cell_type": "code",
   "execution_count": 10,
   "metadata": {},
   "outputs": [
    {
     "data": {
      "text/plain": [
       "0         2000\n",
       "1         2025\n",
       "2         3010\n",
       "3         3110\n",
       "4         3010\n",
       "          ... \n",
       "865442    2030\n",
       "865443    4025\n",
       "865444    3021\n",
       "865445    3121\n",
       "865446    2010\n",
       "Name: event_code, Length: 865447, dtype: object"
      ]
     },
     "execution_count": 10,
     "metadata": {},
     "output_type": "execute_result"
    }
   ],
   "source": [
    "train_data['event_code']"
   ]
  },
  {
   "cell_type": "code",
   "execution_count": 11,
   "metadata": {},
   "outputs": [],
   "source": [
    "game_sequence = train_data.groupby(['installation_id','game_session']).sum().reset_index()\n",
    "game_sequence['event_code'] = game_sequence['event_code'].apply(lambda x: list(sliced(x, 4)))\n",
    "game_sequence['event_sequence'] = game_sequence['event_code'].apply(events_add)\n",
    "game_sequence = game_sequence.merge(label, how='inner', on=['installation_id','game_session'])[['event_sequence','accuracy_group']]"
   ]
  },
  {
   "cell_type": "code",
   "execution_count": 12,
   "metadata": {},
   "outputs": [
    {
     "data": {
      "text/plain": [
       "<matplotlib.axes._subplots.AxesSubplot at 0x7fd80eac3f60>"
      ]
     },
     "execution_count": 12,
     "metadata": {},
     "output_type": "execute_result"
    },
    {
     "data": {
      "image/png": "[encoded data removed]",
      "text/plain": [
       "<Figure size 432x288 with 1 Axes>"
      ]
     },
     "metadata": {
      "needs_background": "light"
     },
     "output_type": "display_data"
    }
   ],
   "source": [
    "k = train_data.groupby(['installation_id','game_session']).count()\n",
    "k['event_code'].hist()"
   ]
  },
  {
   "cell_type": "code",
   "execution_count": 13,
   "metadata": {},
   "outputs": [
    {
     "data": {
      "text/html": [
       "<div>\n",
       "<style scoped>\n",
       "    .dataframe tbody tr th:only-of-type {\n",
       "        vertical-align: middle;\n",
       "    }\n",
       "\n",
       "    .dataframe tbody tr th {\n",
       "        vertical-align: top;\n",
       "    }\n",
       "\n",
       "    .dataframe thead th {\n",
       "        text-align: right;\n",
       "    }\n",
       "</style>\n",
       "<table border=\"1\" class=\"dataframe\">\n",
       "  <thead>\n",
       "    <tr style=\"text-align: right;\">\n",
       "      <th></th>\n",
       "      <th>event_sequence</th>\n",
       "      <th>accuracy_group</th>\n",
       "    </tr>\n",
       "  </thead>\n",
       "  <tbody>\n",
       "    <tr>\n",
       "      <th>0</th>\n",
       "      <td>2000 2025 3010 4070 4025 3110 3021 3121 4025 3...</td>\n",
       "      <td>3</td>\n",
       "    </tr>\n",
       "    <tr>\n",
       "      <th>1</th>\n",
       "      <td>2000 2020 3010 3110 4030 4025 4030 4025 4030 4...</td>\n",
       "      <td>0</td>\n",
       "    </tr>\n",
       "    <tr>\n",
       "      <th>2</th>\n",
       "      <td>2000 2025 3010 3110 3010 4025 3110 3021 3121 4...</td>\n",
       "      <td>3</td>\n",
       "    </tr>\n",
       "    <tr>\n",
       "      <th>3</th>\n",
       "      <td>2000 2025 3010 4025 3110 3021 3121 4025 3021 3...</td>\n",
       "      <td>2</td>\n",
       "    </tr>\n",
       "    <tr>\n",
       "      <th>4</th>\n",
       "      <td>2000 2020 3010 4030 4025 3110 4030 4025 4070 4...</td>\n",
       "      <td>3</td>\n",
       "    </tr>\n",
       "    <tr>\n",
       "      <th>...</th>\n",
       "      <td>...</td>\n",
       "      <td>...</td>\n",
       "    </tr>\n",
       "    <tr>\n",
       "      <th>17685</th>\n",
       "      <td>2000 2020 3010 4030 4070 3110 4030 4025 4070 4...</td>\n",
       "      <td>3</td>\n",
       "    </tr>\n",
       "    <tr>\n",
       "      <th>17686</th>\n",
       "      <td>2000 3010 2020 3110 4070 4070 4030 4040 4030 4...</td>\n",
       "      <td>3</td>\n",
       "    </tr>\n",
       "    <tr>\n",
       "      <th>17687</th>\n",
       "      <td>2000 3010 2020 3110 4070 4070 4030 4020 4030 4...</td>\n",
       "      <td>1</td>\n",
       "    </tr>\n",
       "    <tr>\n",
       "      <th>17688</th>\n",
       "      <td>2000 2025 3010 3110 3010 3110 4070 4025 3021 3...</td>\n",
       "      <td>0</td>\n",
       "    </tr>\n",
       "    <tr>\n",
       "      <th>17689</th>\n",
       "      <td>2000 3010 2020 3110 4070 4070 4070 4070 4070 3...</td>\n",
       "      <td>1</td>\n",
       "    </tr>\n",
       "  </tbody>\n",
       "</table>\n",
       "<p>17690 rows × 2 columns</p>\n",
       "</div>"
      ],
      "text/plain": [
       "                                          event_sequence  accuracy_group\n",
       "0      2000 2025 3010 4070 4025 3110 3021 3121 4025 3...               3\n",
       "1      2000 2020 3010 3110 4030 4025 4030 4025 4030 4...               0\n",
       "2      2000 2025 3010 3110 3010 4025 3110 3021 3121 4...               3\n",
       "3      2000 2025 3010 4025 3110 3021 3121 4025 3021 3...               2\n",
       "4      2000 2020 3010 4030 4025 3110 4030 4025 4070 4...               3\n",
       "...                                                  ...             ...\n",
       "17685  2000 2020 3010 4030 4070 3110 4030 4025 4070 4...               3\n",
       "17686  2000 3010 2020 3110 4070 4070 4030 4040 4030 4...               3\n",
       "17687  2000 3010 2020 3110 4070 4070 4030 4020 4030 4...               1\n",
       "17688  2000 2025 3010 3110 3010 3110 4070 4025 3021 3...               0\n",
       "17689  2000 3010 2020 3110 4070 4070 4070 4070 4070 3...               1\n",
       "\n",
       "[17690 rows x 2 columns]"
      ]
     },
     "execution_count": 13,
     "metadata": {},
     "output_type": "execute_result"
    }
   ],
   "source": [
    "game_sequence"
   ]
  },
  {
   "cell_type": "code",
   "execution_count": 14,
   "metadata": {},
   "outputs": [
    {
     "data": {
      "text/plain": [
       "0"
      ]
     },
     "execution_count": 14,
     "metadata": {},
     "output_type": "execute_result"
    }
   ],
   "source": [
    "sum(game_sequence['event_sequence']=='2000')"
   ]
  },
  {
   "cell_type": "markdown",
   "metadata": {},
   "source": [
    "Making the sequence limited to 400."
   ]
  },
  {
   "cell_type": "code",
   "execution_count": 15,
   "metadata": {},
   "outputs": [
    {
     "name": "stdout",
     "output_type": "stream",
     "text": [
      "Found 22 unique tokens.\n"
     ]
    }
   ],
   "source": [
    "MAX_NB_WORDS = 200\n",
    "MAX_SEQUENCE_LENGTH = 400\n",
    "EMBEDDING_DIM = 100\n",
    "tokenizer = Tokenizer(num_words=MAX_NB_WORDS, filters='!\"#$%&()*+,-./:;<=>?@[\\]^_`{|}~', lower=True)\n",
    "tokenizer.fit_on_texts(game_sequence['event_sequence'].values)\n",
    "word_index = tokenizer.word_index\n",
    "print('Found %s unique tokens.' % len(word_index))"
   ]
  },
  {
   "cell_type": "code",
   "execution_count": 16,
   "metadata": {},
   "outputs": [
    {
     "name": "stdout",
     "output_type": "stream",
     "text": [
      "Shape of data tensor: (17690, 400)\n"
     ]
    }
   ],
   "source": [
    "X = tokenizer.texts_to_sequences(game_sequence['event_sequence'].values)\n",
    "X = pad_sequences(X, maxlen=MAX_SEQUENCE_LENGTH)\n",
    "print('Shape of data tensor:', X.shape)"
   ]
  },
  {
   "cell_type": "code",
   "execution_count": 17,
   "metadata": {},
   "outputs": [
    {
     "name": "stdout",
     "output_type": "stream",
     "text": [
      "Shape of label tensor: (17690, 4)\n"
     ]
    }
   ],
   "source": [
    "Y = pd.get_dummies(game_sequence['accuracy_group']).values\n",
    "print('Shape of label tensor:', Y.shape)"
   ]
  },
  {
   "cell_type": "code",
   "execution_count": 18,
   "metadata": {},
   "outputs": [
    {
     "name": "stdout",
     "output_type": "stream",
     "text": [
      "(15036, 400) (15036, 4)\n",
      "(2654, 400) (2654, 4)\n"
     ]
    }
   ],
   "source": [
    "X_train, X_test, Y_train, Y_test = train_test_split(X,Y, test_size = 0.15, random_state = 1)\n",
    "print(X_train.shape,Y_train.shape)\n",
    "print(X_test.shape,Y_test.shape)"
   ]
  },
  {
   "cell_type": "code",
   "execution_count": 19,
   "metadata": {},
   "outputs": [
    {
     "name": "stderr",
     "output_type": "stream",
     "text": [
      "/opt/conda/lib/python3.6/site-packages/tensorflow_core/python/framework/indexed_slices.py:433: UserWarning: Converting sparse IndexedSlices to a dense Tensor of unknown shape. This may consume a large amount of memory.\n",
      "  \"Converting sparse IndexedSlices to a dense Tensor of unknown shape. \"\n"
     ]
    },
    {
     "name": "stdout",
     "output_type": "stream",
     "text": [
      "Train on 13532 samples, validate on 1504 samples\n",
      "Epoch 1/5\n",
      "13532/13532 [==============================] - 72s 5ms/step - loss: 0.5467 - accuracy: 0.8066 - val_loss: 0.2522 - val_accuracy: 0.9235\n",
      "Epoch 2/5\n",
      "13532/13532 [==============================] - 71s 5ms/step - loss: 0.2149 - accuracy: 0.9282 - val_loss: 0.1511 - val_accuracy: 0.9488\n",
      "Epoch 3/5\n",
      "13532/13532 [==============================] - 69s 5ms/step - loss: 0.1448 - accuracy: 0.9554 - val_loss: 0.0898 - val_accuracy: 0.9794\n",
      "Epoch 4/5\n",
      "13532/13532 [==============================] - 70s 5ms/step - loss: 0.0957 - accuracy: 0.9749 - val_loss: 0.0612 - val_accuracy: 0.9834\n",
      "Epoch 5/5\n",
      "13532/13532 [==============================] - 70s 5ms/step - loss: 0.1059 - accuracy: 0.9724 - val_loss: 0.0508 - val_accuracy: 0.9894\n"
     ]
    }
   ],
   "source": [
    "model0 = Sequential()\n",
    "model0.add(Embedding(MAX_NB_WORDS, EMBEDDING_DIM, input_length=X.shape[1]))\n",
    "model0.add(LSTM(50, dropout=0.2, recurrent_dropout=0.2))\n",
    "model0.add(Dense(4, activation='softmax'))\n",
    "model0.compile(loss='categorical_crossentropy', optimizer='adam', metrics=['accuracy'])\n",
    "history = model0.fit(X_train, Y_train, epochs= 5, batch_size=64,validation_split=0.1,callbacks=[EarlyStopping(monitor='val_loss', patience=3, min_delta=0.001)])"
   ]
  },
  {
   "cell_type": "code",
   "execution_count": 20,
   "metadata": {},
   "outputs": [
    {
     "name": "stdout",
     "output_type": "stream",
     "text": [
      "2654/2654 [==============================] - 5s 2ms/step\n",
      "Test set\n",
      "  Loss: 0.04866\n",
      "  Accuracy: 0.99020\n"
     ]
    }
   ],
   "source": [
    "accuracy = model0.evaluate(X_test,Y_test)\n",
    "print('Test set\\n  Loss: {:0.5f}\\n  Accuracy: {:0.5f}'.format(accuracy[0],accuracy[1]))"
   ]
  },
  {
   "cell_type": "code",
   "execution_count": 21,
   "metadata": {},
   "outputs": [
    {
     "data": {
      "image/png": "[encoded data removed]",
      "text/plain": [
       "<Figure size 432x288 with 1 Axes>"
      ]
     },
     "metadata": {
      "needs_background": "light"
     },
     "output_type": "display_data"
    }
   ],
   "source": [
    "import matplotlib.pylab as plt\n",
    "import matplotlib.pyplot as plt\n",
    "import matplotlib.cm as cm\n",
    "plt.title('Loss')\n",
    "plt.xlabel('# of epoch')\n",
    "plt.plot(history.history['loss'], label='train')\n",
    "plt.plot(history.history['val_loss'], label='test')\n",
    "plt.legend()\n",
    "plt.show()"
   ]
  },
  {
   "cell_type": "markdown",
   "metadata": {},
   "source": [
    "Now using the hierachical clustering to assign each 'installation_id' an 'accuracy_group'"
   ]
  },
  {
   "cell_type": "code",
   "execution_count": 22,
   "metadata": {},
   "outputs": [],
   "source": [
    "average_accuracy = round(label.groupby('installation_id').mean()['accuracy_group']).apply(int).reset_index()"
   ]
  },
  {
   "cell_type": "code",
   "execution_count": null,
   "metadata": {},
   "outputs": [],
   "source": []
  },
  {
   "cell_type": "code",
   "execution_count": 23,
   "metadata": {},
   "outputs": [],
   "source": [
    "average_accuracy['Bird Measurer (Assessment)'] = np.nan\n",
    "average_accuracy['Cart Balancer (Assessment)'] = np.nan\n",
    "average_accuracy['Cauldron Filler (Assessment)'] = np.nan\n",
    "average_accuracy['Chest Sorter (Assessment)'] = np.nan\n",
    "average_accuracy['Mushroom Sorter (Assessment)'] = np.nan"
   ]
  },
  {
   "cell_type": "code",
   "execution_count": 24,
   "metadata": {},
   "outputs": [
    {
     "name": "stderr",
     "output_type": "stream",
     "text": [
      "/opt/conda/lib/python3.6/site-packages/ipykernel_launcher.py:4: SettingWithCopyWarning: \n",
      "A value is trying to be set on a copy of a slice from a DataFrame\n",
      "\n",
      "See the caveats in the documentation: http://pandas.pydata.org/pandas-docs/stable/user_guide/indexing.html#returning-a-view-versus-a-copy\n",
      "  after removing the cwd from sys.path.\n"
     ]
    }
   ],
   "source": [
    "for i in average_accuracy.installation_id:\n",
    "    a = label.loc[label['installation_id']==i]['title']\n",
    "    for j in a:\n",
    "        average_accuracy[j][average_accuracy['installation_id'] == i] = list(label.loc[(label['installation_id'] == i) & (label['title'] == j)]['accuracy_group'])[0]\n",
    "        "
   ]
  },
  {
   "cell_type": "code",
   "execution_count": 25,
   "metadata": {},
   "outputs": [
    {
     "data": {
      "text/plain": [
       "array([[<matplotlib.axes._subplots.AxesSubplot object at 0x7fd8130c0a58>,\n",
       "        <matplotlib.axes._subplots.AxesSubplot object at 0x7fd80df3dc88>],\n",
       "       [<matplotlib.axes._subplots.AxesSubplot object at 0x7fd80deed1d0>,\n",
       "        <matplotlib.axes._subplots.AxesSubplot object at 0x7fd80de91748>],\n",
       "       [<matplotlib.axes._subplots.AxesSubplot object at 0x7fd80deb8cc0>,\n",
       "        <matplotlib.axes._subplots.AxesSubplot object at 0x7fd80a6c4278>]],\n",
       "      dtype=object)"
      ]
     },
     "execution_count": 25,
     "metadata": {},
     "output_type": "execute_result"
    },
    {
     "data": {
      "image/png": "[encoded data removed]",
      "text/plain": [
       "<Figure size 432x288 with 6 Axes>"
      ]
     },
     "metadata": {
      "needs_background": "light"
     },
     "output_type": "display_data"
    }
   ],
   "source": [
    "average_accuracy.hist()"
   ]
  },
  {
   "cell_type": "code",
   "execution_count": 26,
   "metadata": {},
   "outputs": [
    {
     "name": "stderr",
     "output_type": "stream",
     "text": [
      "/opt/conda/lib/python3.6/site-packages/ipykernel_launcher.py:6: SettingWithCopyWarning: \n",
      "A value is trying to be set on a copy of a slice from a DataFrame\n",
      "\n",
      "See the caveats in the documentation: http://pandas.pydata.org/pandas-docs/stable/user_guide/indexing.html#returning-a-view-versus-a-copy\n",
      "  \n"
     ]
    }
   ],
   "source": [
    "append = {}\n",
    "for i in ['Bird Measurer (Assessment)',\n",
    "       'Cart Balancer (Assessment)', 'Cauldron Filler (Assessment)',\n",
    "       'Chest Sorter (Assessment)', 'Mushroom Sorter (Assessment)']:\n",
    "    append[i] = average_accuracy[i].median()\n",
    "    average_accuracy[i][average_accuracy[i].isnull()] = round(average_accuracy[i].mean())\n",
    "    "
   ]
  },
  {
   "cell_type": "code",
   "execution_count": 27,
   "metadata": {},
   "outputs": [
    {
     "data": {
      "text/html": [
       "<div>\n",
       "<style scoped>\n",
       "    .dataframe tbody tr th:only-of-type {\n",
       "        vertical-align: middle;\n",
       "    }\n",
       "\n",
       "    .dataframe tbody tr th {\n",
       "        vertical-align: top;\n",
       "    }\n",
       "\n",
       "    .dataframe thead th {\n",
       "        text-align: right;\n",
       "    }\n",
       "</style>\n",
       "<table border=\"1\" class=\"dataframe\">\n",
       "  <thead>\n",
       "    <tr style=\"text-align: right;\">\n",
       "      <th></th>\n",
       "      <th>installation_id</th>\n",
       "      <th>accuracy_group</th>\n",
       "      <th>Bird Measurer (Assessment)</th>\n",
       "      <th>Cart Balancer (Assessment)</th>\n",
       "      <th>Cauldron Filler (Assessment)</th>\n",
       "      <th>Chest Sorter (Assessment)</th>\n",
       "      <th>Mushroom Sorter (Assessment)</th>\n",
       "    </tr>\n",
       "  </thead>\n",
       "  <tbody>\n",
       "    <tr>\n",
       "      <th>0</th>\n",
       "      <td>0006a69f</td>\n",
       "      <td>2</td>\n",
       "      <td>0.0</td>\n",
       "      <td>2.0</td>\n",
       "      <td>2.0</td>\n",
       "      <td>1.0</td>\n",
       "      <td>3.0</td>\n",
       "    </tr>\n",
       "    <tr>\n",
       "      <th>1</th>\n",
       "      <td>0006c192</td>\n",
       "      <td>2</td>\n",
       "      <td>2.0</td>\n",
       "      <td>2.0</td>\n",
       "      <td>3.0</td>\n",
       "      <td>1.0</td>\n",
       "      <td>0.0</td>\n",
       "    </tr>\n",
       "    <tr>\n",
       "      <th>2</th>\n",
       "      <td>00129856</td>\n",
       "      <td>3</td>\n",
       "      <td>3.0</td>\n",
       "      <td>2.0</td>\n",
       "      <td>2.0</td>\n",
       "      <td>1.0</td>\n",
       "      <td>2.0</td>\n",
       "    </tr>\n",
       "    <tr>\n",
       "      <th>3</th>\n",
       "      <td>001d0ed0</td>\n",
       "      <td>2</td>\n",
       "      <td>0.0</td>\n",
       "      <td>3.0</td>\n",
       "      <td>2.0</td>\n",
       "      <td>0.0</td>\n",
       "      <td>2.0</td>\n",
       "    </tr>\n",
       "    <tr>\n",
       "      <th>4</th>\n",
       "      <td>00225f67</td>\n",
       "      <td>0</td>\n",
       "      <td>0.0</td>\n",
       "      <td>2.0</td>\n",
       "      <td>2.0</td>\n",
       "      <td>1.0</td>\n",
       "      <td>2.0</td>\n",
       "    </tr>\n",
       "    <tr>\n",
       "      <th>...</th>\n",
       "      <td>...</td>\n",
       "      <td>...</td>\n",
       "      <td>...</td>\n",
       "      <td>...</td>\n",
       "      <td>...</td>\n",
       "      <td>...</td>\n",
       "      <td>...</td>\n",
       "    </tr>\n",
       "    <tr>\n",
       "      <th>3609</th>\n",
       "      <td>ff9305d7</td>\n",
       "      <td>0</td>\n",
       "      <td>1.0</td>\n",
       "      <td>2.0</td>\n",
       "      <td>2.0</td>\n",
       "      <td>0.0</td>\n",
       "      <td>2.0</td>\n",
       "    </tr>\n",
       "    <tr>\n",
       "      <th>3610</th>\n",
       "      <td>ff9715db</td>\n",
       "      <td>2</td>\n",
       "      <td>1.0</td>\n",
       "      <td>3.0</td>\n",
       "      <td>3.0</td>\n",
       "      <td>1.0</td>\n",
       "      <td>3.0</td>\n",
       "    </tr>\n",
       "    <tr>\n",
       "      <th>3611</th>\n",
       "      <td>ffc90c32</td>\n",
       "      <td>3</td>\n",
       "      <td>3.0</td>\n",
       "      <td>3.0</td>\n",
       "      <td>3.0</td>\n",
       "      <td>3.0</td>\n",
       "      <td>3.0</td>\n",
       "    </tr>\n",
       "    <tr>\n",
       "      <th>3612</th>\n",
       "      <td>ffd2871d</td>\n",
       "      <td>3</td>\n",
       "      <td>1.0</td>\n",
       "      <td>2.0</td>\n",
       "      <td>3.0</td>\n",
       "      <td>1.0</td>\n",
       "      <td>2.0</td>\n",
       "    </tr>\n",
       "    <tr>\n",
       "      <th>3613</th>\n",
       "      <td>ffeb0b1b</td>\n",
       "      <td>1</td>\n",
       "      <td>1.0</td>\n",
       "      <td>2.0</td>\n",
       "      <td>1.0</td>\n",
       "      <td>1.0</td>\n",
       "      <td>0.0</td>\n",
       "    </tr>\n",
       "  </tbody>\n",
       "</table>\n",
       "<p>3614 rows × 7 columns</p>\n",
       "</div>"
      ],
      "text/plain": [
       "     installation_id  accuracy_group  Bird Measurer (Assessment)  \\\n",
       "0           0006a69f               2                         0.0   \n",
       "1           0006c192               2                         2.0   \n",
       "2           00129856               3                         3.0   \n",
       "3           001d0ed0               2                         0.0   \n",
       "4           00225f67               0                         0.0   \n",
       "...              ...             ...                         ...   \n",
       "3609        ff9305d7               0                         1.0   \n",
       "3610        ff9715db               2                         1.0   \n",
       "3611        ffc90c32               3                         3.0   \n",
       "3612        ffd2871d               3                         1.0   \n",
       "3613        ffeb0b1b               1                         1.0   \n",
       "\n",
       "      Cart Balancer (Assessment)  Cauldron Filler (Assessment)  \\\n",
       "0                            2.0                           2.0   \n",
       "1                            2.0                           3.0   \n",
       "2                            2.0                           2.0   \n",
       "3                            3.0                           2.0   \n",
       "4                            2.0                           2.0   \n",
       "...                          ...                           ...   \n",
       "3609                         2.0                           2.0   \n",
       "3610                         3.0                           3.0   \n",
       "3611                         3.0                           3.0   \n",
       "3612                         2.0                           3.0   \n",
       "3613                         2.0                           1.0   \n",
       "\n",
       "      Chest Sorter (Assessment)  Mushroom Sorter (Assessment)  \n",
       "0                           1.0                           3.0  \n",
       "1                           1.0                           0.0  \n",
       "2                           1.0                           2.0  \n",
       "3                           0.0                           2.0  \n",
       "4                           1.0                           2.0  \n",
       "...                         ...                           ...  \n",
       "3609                        0.0                           2.0  \n",
       "3610                        1.0                           3.0  \n",
       "3611                        3.0                           3.0  \n",
       "3612                        1.0                           2.0  \n",
       "3613                        1.0                           0.0  \n",
       "\n",
       "[3614 rows x 7 columns]"
      ]
     },
     "execution_count": 27,
     "metadata": {},
     "output_type": "execute_result"
    }
   ],
   "source": [
    "average_accuracy"
   ]
  },
  {
   "cell_type": "code",
   "execution_count": 28,
   "metadata": {},
   "outputs": [],
   "source": [
    "KM_x = average_accuracy[['Bird Measurer (Assessment)','Cart Balancer (Assessment)','Cauldron Filler (Assessment)',\n",
    "                        'Chest Sorter (Assessment)','Mushroom Sorter (Assessment)']]\n",
    "KM_y = average_accuracy['accuracy_group']"
   ]
  },
  {
   "cell_type": "code",
   "execution_count": 29,
   "metadata": {},
   "outputs": [
    {
     "data": {
      "text/plain": [
       "array([[<matplotlib.axes._subplots.AxesSubplot object at 0x7fd7b8a7ef28>]],\n",
       "      dtype=object)"
      ]
     },
     "execution_count": 29,
     "metadata": {},
     "output_type": "execute_result"
    },
    {
     "data": {
      "image/png": "[encoded data removed]",
      "text/plain": [
       "<Figure size 432x288 with 1 Axes>"
      ]
     },
     "metadata": {
      "needs_background": "light"
     },
     "output_type": "display_data"
    }
   ],
   "source": [
    "from sklearn.cluster import AgglomerativeClustering \n",
    "\n",
    " \n",
    "model=AgglomerativeClustering(n_clusters=4,linkage='ward')\n",
    "\n",
    "model.fit(KM_x)\n",
    "model.labels_\n",
    "pd.DataFrame(model.labels_).hist()"
   ]
  },
  {
   "cell_type": "code",
   "execution_count": 30,
   "metadata": {},
   "outputs": [
    {
     "name": "stderr",
     "output_type": "stream",
     "text": [
      "/opt/conda/lib/python3.6/site-packages/ipykernel_launcher.py:1: SettingWithCopyWarning: \n",
      "A value is trying to be set on a copy of a slice from a DataFrame\n",
      "\n",
      "See the caveats in the documentation: http://pandas.pydata.org/pandas-docs/stable/user_guide/indexing.html#returning-a-view-versus-a-copy\n",
      "  \"\"\"Entry point for launching an IPython kernel.\n",
      "/opt/conda/lib/python3.6/site-packages/ipykernel_launcher.py:2: SettingWithCopyWarning: \n",
      "A value is trying to be set on a copy of a slice from a DataFrame\n",
      "\n",
      "See the caveats in the documentation: http://pandas.pydata.org/pandas-docs/stable/user_guide/indexing.html#returning-a-view-versus-a-copy\n",
      "  \n",
      "/opt/conda/lib/python3.6/site-packages/ipykernel_launcher.py:3: SettingWithCopyWarning: \n",
      "A value is trying to be set on a copy of a slice from a DataFrame\n",
      "\n",
      "See the caveats in the documentation: http://pandas.pydata.org/pandas-docs/stable/user_guide/indexing.html#returning-a-view-versus-a-copy\n",
      "  This is separate from the ipykernel package so we can avoid doing imports until\n",
      "/opt/conda/lib/python3.6/site-packages/ipykernel_launcher.py:4: SettingWithCopyWarning: \n",
      "A value is trying to be set on a copy of a slice from a DataFrame\n",
      "\n",
      "See the caveats in the documentation: http://pandas.pydata.org/pandas-docs/stable/user_guide/indexing.html#returning-a-view-versus-a-copy\n",
      "  after removing the cwd from sys.path.\n"
     ]
    },
    {
     "data": {
      "text/plain": [
       "<matplotlib.axes._subplots.AxesSubplot at 0x7fd7b8561c88>"
      ]
     },
     "execution_count": 30,
     "metadata": {},
     "output_type": "execute_result"
    },
    {
     "data": {
      "image/png": "[encoded data removed]",
      "text/plain": [
       "<Figure size 432x288 with 1 Axes>"
      ]
     },
     "metadata": {
      "needs_background": "light"
     },
     "output_type": "display_data"
    }
   ],
   "source": [
    "average_accuracy['accuracy_group'][model.labels_ == 0] = 3\n",
    "average_accuracy['accuracy_group'][model.labels_ == 1] = 2\n",
    "average_accuracy['accuracy_group'][model.labels_ == 2] = 1\n",
    "average_accuracy['accuracy_group'][model.labels_ == 3] = 0\n",
    "average_accuracy['accuracy_group'].hist()"
   ]
  },
  {
   "cell_type": "code",
   "execution_count": 31,
   "metadata": {},
   "outputs": [],
   "source": [
    "test_assessment = test[test.type == 'Assessment']"
   ]
  },
  {
   "cell_type": "code",
   "execution_count": 32,
   "metadata": {},
   "outputs": [
    {
     "data": {
      "text/html": [
       "<div>\n",
       "<style scoped>\n",
       "    .dataframe tbody tr th:only-of-type {\n",
       "        vertical-align: middle;\n",
       "    }\n",
       "\n",
       "    .dataframe tbody tr th {\n",
       "        vertical-align: top;\n",
       "    }\n",
       "\n",
       "    .dataframe thead th {\n",
       "        text-align: right;\n",
       "    }\n",
       "</style>\n",
       "<table border=\"1\" class=\"dataframe\">\n",
       "  <thead>\n",
       "    <tr style=\"text-align: right;\">\n",
       "      <th></th>\n",
       "      <th>event_id</th>\n",
       "      <th>game_session</th>\n",
       "      <th>timestamp</th>\n",
       "      <th>event_data</th>\n",
       "      <th>installation_id</th>\n",
       "      <th>event_count</th>\n",
       "      <th>event_code</th>\n",
       "      <th>game_time</th>\n",
       "      <th>title</th>\n",
       "      <th>type</th>\n",
       "      <th>world</th>\n",
       "    </tr>\n",
       "  </thead>\n",
       "  <tbody>\n",
       "    <tr>\n",
       "      <th>282</th>\n",
       "      <td>7ad3efc6</td>\n",
       "      <td>8b38fc0d2fd315dc</td>\n",
       "      <td>2019-09-11T18:56:11.918Z</td>\n",
       "      <td>{\"version\":\"1.0\",\"event_count\":1,\"game_time\":0...</td>\n",
       "      <td>00abaee7</td>\n",
       "      <td>1</td>\n",
       "      <td>2000</td>\n",
       "      <td>0</td>\n",
       "      <td>Cart Balancer (Assessment)</td>\n",
       "      <td>Assessment</td>\n",
       "      <td>CRYSTALCAVES</td>\n",
       "    </tr>\n",
       "    <tr>\n",
       "      <th>283</th>\n",
       "      <td>65a38bf7</td>\n",
       "      <td>8b38fc0d2fd315dc</td>\n",
       "      <td>2019-09-11T18:56:12.019Z</td>\n",
       "      <td>{\"crystals\":[{\"id\":\"gem07\",\"weight\":6},{\"id\":\"...</td>\n",
       "      <td>00abaee7</td>\n",
       "      <td>2</td>\n",
       "      <td>2020</td>\n",
       "      <td>58</td>\n",
       "      <td>Cart Balancer (Assessment)</td>\n",
       "      <td>Assessment</td>\n",
       "      <td>CRYSTALCAVES</td>\n",
       "    </tr>\n",
       "    <tr>\n",
       "      <th>284</th>\n",
       "      <td>795e4a37</td>\n",
       "      <td>8b38fc0d2fd315dc</td>\n",
       "      <td>2019-09-11T18:56:12.030Z</td>\n",
       "      <td>{\"description\":\"We've got to balance this scal...</td>\n",
       "      <td>00abaee7</td>\n",
       "      <td>3</td>\n",
       "      <td>3010</td>\n",
       "      <td>58</td>\n",
       "      <td>Cart Balancer (Assessment)</td>\n",
       "      <td>Assessment</td>\n",
       "      <td>CRYSTALCAVES</td>\n",
       "    </tr>\n",
       "    <tr>\n",
       "      <th>285</th>\n",
       "      <td>5e109ec3</td>\n",
       "      <td>8b38fc0d2fd315dc</td>\n",
       "      <td>2019-09-11T18:56:15.790Z</td>\n",
       "      <td>{\"crystal_id\":\"gem07\",\"weight\":6,\"coordinates\"...</td>\n",
       "      <td>00abaee7</td>\n",
       "      <td>4</td>\n",
       "      <td>4030</td>\n",
       "      <td>3852</td>\n",
       "      <td>Cart Balancer (Assessment)</td>\n",
       "      <td>Assessment</td>\n",
       "      <td>CRYSTALCAVES</td>\n",
       "    </tr>\n",
       "    <tr>\n",
       "      <th>286</th>\n",
       "      <td>5c2f29ca</td>\n",
       "      <td>8b38fc0d2fd315dc</td>\n",
       "      <td>2019-09-11T18:56:17.869Z</td>\n",
       "      <td>{\"crystal_id\":\"gem07\",\"weight\":6,\"coordinates\"...</td>\n",
       "      <td>00abaee7</td>\n",
       "      <td>5</td>\n",
       "      <td>4020</td>\n",
       "      <td>5968</td>\n",
       "      <td>Cart Balancer (Assessment)</td>\n",
       "      <td>Assessment</td>\n",
       "      <td>CRYSTALCAVES</td>\n",
       "    </tr>\n",
       "    <tr>\n",
       "      <th>...</th>\n",
       "      <td>...</td>\n",
       "      <td>...</td>\n",
       "      <td>...</td>\n",
       "      <td>...</td>\n",
       "      <td>...</td>\n",
       "      <td>...</td>\n",
       "      <td>...</td>\n",
       "      <td>...</td>\n",
       "      <td>...</td>\n",
       "      <td>...</td>\n",
       "      <td>...</td>\n",
       "    </tr>\n",
       "    <tr>\n",
       "      <th>1156408</th>\n",
       "      <td>9d29771f</td>\n",
       "      <td>46ff9d3ad2be09f2</td>\n",
       "      <td>2019-09-28T21:20:36.723Z</td>\n",
       "      <td>{\"description\":\"Alright! This one is the littl...</td>\n",
       "      <td>ffe774cc</td>\n",
       "      <td>38</td>\n",
       "      <td>3021</td>\n",
       "      <td>27797</td>\n",
       "      <td>Mushroom Sorter (Assessment)</td>\n",
       "      <td>Assessment</td>\n",
       "      <td>TREETOPCITY</td>\n",
       "    </tr>\n",
       "    <tr>\n",
       "      <th>1156409</th>\n",
       "      <td>c74f40cd</td>\n",
       "      <td>46ff9d3ad2be09f2</td>\n",
       "      <td>2019-09-28T21:20:40.918Z</td>\n",
       "      <td>{\"description\":\"Alright! This one is the littl...</td>\n",
       "      <td>ffe774cc</td>\n",
       "      <td>39</td>\n",
       "      <td>3121</td>\n",
       "      <td>32030</td>\n",
       "      <td>Mushroom Sorter (Assessment)</td>\n",
       "      <td>Assessment</td>\n",
       "      <td>TREETOPCITY</td>\n",
       "    </tr>\n",
       "    <tr>\n",
       "      <th>1156410</th>\n",
       "      <td>6c930e6e</td>\n",
       "      <td>46ff9d3ad2be09f2</td>\n",
       "      <td>2019-09-28T21:20:41.493Z</td>\n",
       "      <td>{\"duration\":20008,\"misses\":0,\"event_count\":40,...</td>\n",
       "      <td>ffe774cc</td>\n",
       "      <td>40</td>\n",
       "      <td>2030</td>\n",
       "      <td>32584</td>\n",
       "      <td>Mushroom Sorter (Assessment)</td>\n",
       "      <td>Assessment</td>\n",
       "      <td>TREETOPCITY</td>\n",
       "    </tr>\n",
       "    <tr>\n",
       "      <th>1156411</th>\n",
       "      <td>a5be6304</td>\n",
       "      <td>46ff9d3ad2be09f2</td>\n",
       "      <td>2019-09-28T21:20:45.499Z</td>\n",
       "      <td>{\"session_duration\":36607,\"exit_type\":\"game_co...</td>\n",
       "      <td>ffe774cc</td>\n",
       "      <td>41</td>\n",
       "      <td>2010</td>\n",
       "      <td>36607</td>\n",
       "      <td>Mushroom Sorter (Assessment)</td>\n",
       "      <td>Assessment</td>\n",
       "      <td>TREETOPCITY</td>\n",
       "    </tr>\n",
       "    <tr>\n",
       "      <th>1156413</th>\n",
       "      <td>f56e0afc</td>\n",
       "      <td>6897df1e7b5ccdf7</td>\n",
       "      <td>2019-09-28T21:21:56.105Z</td>\n",
       "      <td>{\"version\":\"1.0\",\"event_count\":1,\"game_time\":0...</td>\n",
       "      <td>ffe774cc</td>\n",
       "      <td>1</td>\n",
       "      <td>2000</td>\n",
       "      <td>0</td>\n",
       "      <td>Bird Measurer (Assessment)</td>\n",
       "      <td>Assessment</td>\n",
       "      <td>TREETOPCITY</td>\n",
       "    </tr>\n",
       "  </tbody>\n",
       "</table>\n",
       "<p>102627 rows × 11 columns</p>\n",
       "</div>"
      ],
      "text/plain": [
       "         event_id      game_session                 timestamp  \\\n",
       "282      7ad3efc6  8b38fc0d2fd315dc  2019-09-11T18:56:11.918Z   \n",
       "283      65a38bf7  8b38fc0d2fd315dc  2019-09-11T18:56:12.019Z   \n",
       "284      795e4a37  8b38fc0d2fd315dc  2019-09-11T18:56:12.030Z   \n",
       "285      5e109ec3  8b38fc0d2fd315dc  2019-09-11T18:56:15.790Z   \n",
       "286      5c2f29ca  8b38fc0d2fd315dc  2019-09-11T18:56:17.869Z   \n",
       "...           ...               ...                       ...   \n",
       "1156408  9d29771f  46ff9d3ad2be09f2  2019-09-28T21:20:36.723Z   \n",
       "1156409  c74f40cd  46ff9d3ad2be09f2  2019-09-28T21:20:40.918Z   \n",
       "1156410  6c930e6e  46ff9d3ad2be09f2  2019-09-28T21:20:41.493Z   \n",
       "1156411  a5be6304  46ff9d3ad2be09f2  2019-09-28T21:20:45.499Z   \n",
       "1156413  f56e0afc  6897df1e7b5ccdf7  2019-09-28T21:21:56.105Z   \n",
       "\n",
       "                                                event_data installation_id  \\\n",
       "282      {\"version\":\"1.0\",\"event_count\":1,\"game_time\":0...        00abaee7   \n",
       "283      {\"crystals\":[{\"id\":\"gem07\",\"weight\":6},{\"id\":\"...        00abaee7   \n",
       "284      {\"description\":\"We've got to balance this scal...        00abaee7   \n",
       "285      {\"crystal_id\":\"gem07\",\"weight\":6,\"coordinates\"...        00abaee7   \n",
       "286      {\"crystal_id\":\"gem07\",\"weight\":6,\"coordinates\"...        00abaee7   \n",
       "...                                                    ...             ...   \n",
       "1156408  {\"description\":\"Alright! This one is the littl...        ffe774cc   \n",
       "1156409  {\"description\":\"Alright! This one is the littl...        ffe774cc   \n",
       "1156410  {\"duration\":20008,\"misses\":0,\"event_count\":40,...        ffe774cc   \n",
       "1156411  {\"session_duration\":36607,\"exit_type\":\"game_co...        ffe774cc   \n",
       "1156413  {\"version\":\"1.0\",\"event_count\":1,\"game_time\":0...        ffe774cc   \n",
       "\n",
       "         event_count  event_code  game_time                         title  \\\n",
       "282                1        2000          0    Cart Balancer (Assessment)   \n",
       "283                2        2020         58    Cart Balancer (Assessment)   \n",
       "284                3        3010         58    Cart Balancer (Assessment)   \n",
       "285                4        4030       3852    Cart Balancer (Assessment)   \n",
       "286                5        4020       5968    Cart Balancer (Assessment)   \n",
       "...              ...         ...        ...                           ...   \n",
       "1156408           38        3021      27797  Mushroom Sorter (Assessment)   \n",
       "1156409           39        3121      32030  Mushroom Sorter (Assessment)   \n",
       "1156410           40        2030      32584  Mushroom Sorter (Assessment)   \n",
       "1156411           41        2010      36607  Mushroom Sorter (Assessment)   \n",
       "1156413            1        2000          0    Bird Measurer (Assessment)   \n",
       "\n",
       "               type         world  \n",
       "282      Assessment  CRYSTALCAVES  \n",
       "283      Assessment  CRYSTALCAVES  \n",
       "284      Assessment  CRYSTALCAVES  \n",
       "285      Assessment  CRYSTALCAVES  \n",
       "286      Assessment  CRYSTALCAVES  \n",
       "...             ...           ...  \n",
       "1156408  Assessment   TREETOPCITY  \n",
       "1156409  Assessment   TREETOPCITY  \n",
       "1156410  Assessment   TREETOPCITY  \n",
       "1156411  Assessment   TREETOPCITY  \n",
       "1156413  Assessment   TREETOPCITY  \n",
       "\n",
       "[102627 rows x 11 columns]"
      ]
     },
     "execution_count": 32,
     "metadata": {},
     "output_type": "execute_result"
    }
   ],
   "source": [
    "test_assessment"
   ]
  },
  {
   "cell_type": "code",
   "execution_count": 33,
   "metadata": {},
   "outputs": [
    {
     "data": {
      "text/plain": [
       "3347"
      ]
     },
     "execution_count": 33,
     "metadata": {},
     "output_type": "execute_result"
    }
   ],
   "source": [
    "test_assessment['game_session'].unique().size"
   ]
  },
  {
   "cell_type": "code",
   "execution_count": 34,
   "metadata": {},
   "outputs": [
    {
     "data": {
      "text/plain": [
       "1000"
      ]
     },
     "execution_count": 34,
     "metadata": {},
     "output_type": "execute_result"
    }
   ],
   "source": [
    "test_assessment['installation_id'].unique().size"
   ]
  },
  {
   "cell_type": "code",
   "execution_count": 35,
   "metadata": {},
   "outputs": [],
   "source": [
    "count_game = test_assessment.groupby(['installation_id','game_session']).count().reset_index()\n",
    "count_game = count_game[count_game.event_id > 1]\n",
    "count_game = count_game['game_session']"
   ]
  },
  {
   "cell_type": "code",
   "execution_count": 36,
   "metadata": {},
   "outputs": [
    {
     "name": "stderr",
     "output_type": "stream",
     "text": [
      "/opt/conda/lib/python3.6/site-packages/ipykernel_launcher.py:3: SettingWithCopyWarning: \n",
      "A value is trying to be set on a copy of a slice from a DataFrame.\n",
      "Try using .loc[row_indexer,col_indexer] = value instead\n",
      "\n",
      "See the caveats in the documentation: http://pandas.pydata.org/pandas-docs/stable/user_guide/indexing.html#returning-a-view-versus-a-copy\n",
      "  This is separate from the ipykernel package so we can avoid doing imports until\n"
     ]
    }
   ],
   "source": [
    "test_data = test_assessment[['event_code','installation_id','game_session','title']]\n",
    "#test_data = test_data[test_data.game_session.isin(count_game)]\n",
    "test_data['event_code'] = test_data['event_code'].apply(str)"
   ]
  },
  {
   "cell_type": "code",
   "execution_count": 37,
   "metadata": {},
   "outputs": [
    {
     "name": "stdout",
     "output_type": "stream",
     "text": [
      "Found 22 unique tokens.\n"
     ]
    }
   ],
   "source": [
    "test_game_sequence = test_data.groupby(['installation_id','game_session','title']).sum().reset_index()\n",
    "test_game_sequence['event_code'] = test_game_sequence['event_code'].apply(lambda x: list(sliced(x, 4)))\n",
    "test_game_sequence['event_sequence'] = test_game_sequence['event_code'].apply(events_add)\n",
    "tokenizer = Tokenizer(num_words=MAX_NB_WORDS, filters='!\"#$%&()*+,-./:;<=>?@[\\]^_`{|}~', lower=True)\n",
    "tokenizer.fit_on_texts(test_game_sequence['event_sequence'].values)\n",
    "word_index = tokenizer.word_index\n",
    "print('Found %s unique tokens.' % len(word_index))"
   ]
  },
  {
   "cell_type": "code",
   "execution_count": 38,
   "metadata": {},
   "outputs": [
    {
     "name": "stdout",
     "output_type": "stream",
     "text": [
      "Shape of data tensor: (3347, 400)\n"
     ]
    },
    {
     "data": {
      "text/plain": [
       "array([[ 0,  0,  0, ...,  0,  0, 10],\n",
       "       [ 0,  0,  0, ...,  8, 15, 17],\n",
       "       [ 0,  0,  0, ...,  7,  8, 17],\n",
       "       ...,\n",
       "       [ 0,  0,  0, ...,  6,  4,  6],\n",
       "       [ 0,  0,  0, ...,  8, 15, 17],\n",
       "       [ 0,  0,  0, ...,  0,  0, 10]], dtype=int32)"
      ]
     },
     "execution_count": 38,
     "metadata": {},
     "output_type": "execute_result"
    }
   ],
   "source": [
    "X_test = tokenizer.texts_to_sequences(test_game_sequence['event_sequence'].values)\n",
    "X_test = pad_sequences(X_test, maxlen=MAX_SEQUENCE_LENGTH)\n",
    "print('Shape of data tensor:', X_test.shape)\n",
    "X_test"
   ]
  },
  {
   "cell_type": "code",
   "execution_count": 39,
   "metadata": {},
   "outputs": [],
   "source": [
    "test_pred = pd.DataFrame(model0.predict(X_test)).idxmax(1)"
   ]
  },
  {
   "cell_type": "code",
   "execution_count": 40,
   "metadata": {},
   "outputs": [
    {
     "data": {
      "text/plain": [
       "0       0\n",
       "1       3\n",
       "2       3\n",
       "3       0\n",
       "4       2\n",
       "       ..\n",
       "3342    3\n",
       "3343    0\n",
       "3344    3\n",
       "3345    2\n",
       "3346    0\n",
       "Length: 3347, dtype: int64"
      ]
     },
     "execution_count": 40,
     "metadata": {},
     "output_type": "execute_result"
    }
   ],
   "source": [
    "test_pred"
   ]
  },
  {
   "cell_type": "code",
   "execution_count": 41,
   "metadata": {},
   "outputs": [],
   "source": [
    "test_game_sequence['accuracy_group'] = test_pred"
   ]
  },
  {
   "cell_type": "code",
   "execution_count": 42,
   "metadata": {},
   "outputs": [
    {
     "data": {
      "text/html": [
       "<div>\n",
       "<style scoped>\n",
       "    .dataframe tbody tr th:only-of-type {\n",
       "        vertical-align: middle;\n",
       "    }\n",
       "\n",
       "    .dataframe tbody tr th {\n",
       "        vertical-align: top;\n",
       "    }\n",
       "\n",
       "    .dataframe thead th {\n",
       "        text-align: right;\n",
       "    }\n",
       "</style>\n",
       "<table border=\"1\" class=\"dataframe\">\n",
       "  <thead>\n",
       "    <tr style=\"text-align: right;\">\n",
       "      <th></th>\n",
       "      <th>installation_id</th>\n",
       "      <th>game_session</th>\n",
       "      <th>title</th>\n",
       "      <th>event_code</th>\n",
       "      <th>event_sequence</th>\n",
       "      <th>accuracy_group</th>\n",
       "    </tr>\n",
       "  </thead>\n",
       "  <tbody>\n",
       "    <tr>\n",
       "      <th>0</th>\n",
       "      <td>00abaee7</td>\n",
       "      <td>348d7f09f96af313</td>\n",
       "      <td>Cauldron Filler (Assessment)</td>\n",
       "      <td>[2000]</td>\n",
       "      <td>2000</td>\n",
       "      <td>0</td>\n",
       "    </tr>\n",
       "    <tr>\n",
       "      <th>1</th>\n",
       "      <td>00abaee7</td>\n",
       "      <td>8b38fc0d2fd315dc</td>\n",
       "      <td>Cart Balancer (Assessment)</td>\n",
       "      <td>[2000, 2020, 3010, 4030, 4020, 3110, 4030, 402...</td>\n",
       "      <td>2000 2020 3010 4030 4020 3110 4030 4020 4070 4...</td>\n",
       "      <td>3</td>\n",
       "    </tr>\n",
       "    <tr>\n",
       "      <th>2</th>\n",
       "      <td>01242218</td>\n",
       "      <td>009c890ce6c4f3e3</td>\n",
       "      <td>Cauldron Filler (Assessment)</td>\n",
       "      <td>[2000, 3010, 2020, 4070, 4030, 3110, 4020, 403...</td>\n",
       "      <td>2000 3010 2020 4070 4030 3110 4020 4030 4020 4...</td>\n",
       "      <td>3</td>\n",
       "    </tr>\n",
       "    <tr>\n",
       "      <th>3</th>\n",
       "      <td>01242218</td>\n",
       "      <td>1fef5d54cb4b775a</td>\n",
       "      <td>Cart Balancer (Assessment)</td>\n",
       "      <td>[2000]</td>\n",
       "      <td>2000</td>\n",
       "      <td>0</td>\n",
       "    </tr>\n",
       "    <tr>\n",
       "      <th>4</th>\n",
       "      <td>01242218</td>\n",
       "      <td>31423dbcd717919e</td>\n",
       "      <td>Mushroom Sorter (Assessment)</td>\n",
       "      <td>[2000, 2025, 3010, 3110, 3010, 4025, 3110, 302...</td>\n",
       "      <td>2000 2025 3010 3110 3010 4025 3110 3021 3121 4...</td>\n",
       "      <td>2</td>\n",
       "    </tr>\n",
       "    <tr>\n",
       "      <th>...</th>\n",
       "      <td>...</td>\n",
       "      <td>...</td>\n",
       "      <td>...</td>\n",
       "      <td>...</td>\n",
       "      <td>...</td>\n",
       "      <td>...</td>\n",
       "    </tr>\n",
       "    <tr>\n",
       "      <th>3342</th>\n",
       "      <td>ffe00ca8</td>\n",
       "      <td>70336ec581799feb</td>\n",
       "      <td>Cauldron Filler (Assessment)</td>\n",
       "      <td>[2000, 3010, 2020, 4070, 4100, 3110, 3020, 312...</td>\n",
       "      <td>2000 3010 2020 4070 4100 3110 3020 3120 4030 4...</td>\n",
       "      <td>3</td>\n",
       "    </tr>\n",
       "    <tr>\n",
       "      <th>3343</th>\n",
       "      <td>ffe00ca8</td>\n",
       "      <td>8d0fdec0ad44aefb</td>\n",
       "      <td>Cart Balancer (Assessment)</td>\n",
       "      <td>[2000]</td>\n",
       "      <td>2000</td>\n",
       "      <td>0</td>\n",
       "    </tr>\n",
       "    <tr>\n",
       "      <th>3344</th>\n",
       "      <td>ffe00ca8</td>\n",
       "      <td>c116d9e6f8cf85c3</td>\n",
       "      <td>Cauldron Filler (Assessment)</td>\n",
       "      <td>[2000, 3010, 2020, 4070, 4070, 4070, 4070, 311...</td>\n",
       "      <td>2000 3010 2020 4070 4070 4070 4070 3110 4070 4...</td>\n",
       "      <td>3</td>\n",
       "    </tr>\n",
       "    <tr>\n",
       "      <th>3345</th>\n",
       "      <td>ffe774cc</td>\n",
       "      <td>46ff9d3ad2be09f2</td>\n",
       "      <td>Mushroom Sorter (Assessment)</td>\n",
       "      <td>[2000, 2025, 3010, 3110, 3010, 4025, 3110, 302...</td>\n",
       "      <td>2000 2025 3010 3110 3010 4025 3110 3021 3121 4...</td>\n",
       "      <td>2</td>\n",
       "    </tr>\n",
       "    <tr>\n",
       "      <th>3346</th>\n",
       "      <td>ffe774cc</td>\n",
       "      <td>6897df1e7b5ccdf7</td>\n",
       "      <td>Bird Measurer (Assessment)</td>\n",
       "      <td>[2000]</td>\n",
       "      <td>2000</td>\n",
       "      <td>0</td>\n",
       "    </tr>\n",
       "  </tbody>\n",
       "</table>\n",
       "<p>3347 rows × 6 columns</p>\n",
       "</div>"
      ],
      "text/plain": [
       "     installation_id      game_session                         title  \\\n",
       "0           00abaee7  348d7f09f96af313  Cauldron Filler (Assessment)   \n",
       "1           00abaee7  8b38fc0d2fd315dc    Cart Balancer (Assessment)   \n",
       "2           01242218  009c890ce6c4f3e3  Cauldron Filler (Assessment)   \n",
       "3           01242218  1fef5d54cb4b775a    Cart Balancer (Assessment)   \n",
       "4           01242218  31423dbcd717919e  Mushroom Sorter (Assessment)   \n",
       "...              ...               ...                           ...   \n",
       "3342        ffe00ca8  70336ec581799feb  Cauldron Filler (Assessment)   \n",
       "3343        ffe00ca8  8d0fdec0ad44aefb    Cart Balancer (Assessment)   \n",
       "3344        ffe00ca8  c116d9e6f8cf85c3  Cauldron Filler (Assessment)   \n",
       "3345        ffe774cc  46ff9d3ad2be09f2  Mushroom Sorter (Assessment)   \n",
       "3346        ffe774cc  6897df1e7b5ccdf7    Bird Measurer (Assessment)   \n",
       "\n",
       "                                             event_code  \\\n",
       "0                                                [2000]   \n",
       "1     [2000, 2020, 3010, 4030, 4020, 3110, 4030, 402...   \n",
       "2     [2000, 3010, 2020, 4070, 4030, 3110, 4020, 403...   \n",
       "3                                                [2000]   \n",
       "4     [2000, 2025, 3010, 3110, 3010, 4025, 3110, 302...   \n",
       "...                                                 ...   \n",
       "3342  [2000, 3010, 2020, 4070, 4100, 3110, 3020, 312...   \n",
       "3343                                             [2000]   \n",
       "3344  [2000, 3010, 2020, 4070, 4070, 4070, 4070, 311...   \n",
       "3345  [2000, 2025, 3010, 3110, 3010, 4025, 3110, 302...   \n",
       "3346                                             [2000]   \n",
       "\n",
       "                                         event_sequence  accuracy_group  \n",
       "0                                                  2000               0  \n",
       "1     2000 2020 3010 4030 4020 3110 4030 4020 4070 4...               3  \n",
       "2     2000 3010 2020 4070 4030 3110 4020 4030 4020 4...               3  \n",
       "3                                                  2000               0  \n",
       "4     2000 2025 3010 3110 3010 4025 3110 3021 3121 4...               2  \n",
       "...                                                 ...             ...  \n",
       "3342  2000 3010 2020 4070 4100 3110 3020 3120 4030 4...               3  \n",
       "3343                                               2000               0  \n",
       "3344  2000 3010 2020 4070 4070 4070 4070 3110 4070 4...               3  \n",
       "3345  2000 2025 3010 3110 3010 4025 3110 3021 3121 4...               2  \n",
       "3346                                               2000               0  \n",
       "\n",
       "[3347 rows x 6 columns]"
      ]
     },
     "execution_count": 42,
     "metadata": {},
     "output_type": "execute_result"
    }
   ],
   "source": [
    "test_game_sequence"
   ]
  },
  {
   "cell_type": "code",
   "execution_count": 43,
   "metadata": {},
   "outputs": [
    {
     "data": {
      "text/plain": [
       "<matplotlib.axes._subplots.AxesSubplot at 0x7fd7b7880080>"
      ]
     },
     "execution_count": 43,
     "metadata": {},
     "output_type": "execute_result"
    },
    {
     "data": {
      "image/png": "[encoded data removed]",
      "text/plain": [
       "<Figure size 432x288 with 1 Axes>"
      ]
     },
     "metadata": {
      "needs_background": "light"
     },
     "output_type": "display_data"
    }
   ],
   "source": [
    "test_game_sequence['accuracy_group'].hist()"
   ]
  },
  {
   "cell_type": "code",
   "execution_count": 44,
   "metadata": {},
   "outputs": [
    {
     "name": "stderr",
     "output_type": "stream",
     "text": [
      "/opt/conda/lib/python3.6/site-packages/ipykernel_launcher.py:11: SettingWithCopyWarning: \n",
      "A value is trying to be set on a copy of a slice from a DataFrame\n",
      "\n",
      "See the caveats in the documentation: http://pandas.pydata.org/pandas-docs/stable/user_guide/indexing.html#returning-a-view-versus-a-copy\n",
      "  # This is added back by InteractiveShellApp.init_path()\n"
     ]
    }
   ],
   "source": [
    "test_accuracy = pd.DataFrame(test_assessment['installation_id'].unique(),columns = ['installation_id'])\n",
    "test_accuracy['Bird Measurer (Assessment)'] = np.nan\n",
    "test_accuracy['Cart Balancer (Assessment)'] = np.nan\n",
    "test_accuracy['Cauldron Filler (Assessment)'] = np.nan\n",
    "test_accuracy['Chest Sorter (Assessment)'] = np.nan\n",
    "test_accuracy['Mushroom Sorter (Assessment)'] = np.nan\n",
    "test_accuracy['accuracy_group'] = np.nan\n",
    "for i in test_accuracy.installation_id:\n",
    "    a = test_game_sequence.loc[test_game_sequence['installation_id']==i]['title']\n",
    "    for j in a:\n",
    "        test_accuracy[j][test_accuracy['installation_id'] == i] = list(test_game_sequence.loc[(test_game_sequence['installation_id'] == i) & (test_game_sequence['title'] == j)]['accuracy_group'])[0]\n"
   ]
  },
  {
   "cell_type": "code",
   "execution_count": 45,
   "metadata": {},
   "outputs": [
    {
     "data": {
      "text/plain": [
       "array([[<matplotlib.axes._subplots.AxesSubplot object at 0x7fd7b84dc400>,\n",
       "        <matplotlib.axes._subplots.AxesSubplot object at 0x7fd7b777c240>],\n",
       "       [<matplotlib.axes._subplots.AxesSubplot object at 0x7fd7b7720710>,\n",
       "        <matplotlib.axes._subplots.AxesSubplot object at 0x7fd7b7749c88>],\n",
       "       [<matplotlib.axes._subplots.AxesSubplot object at 0x7fd7b76fa240>,\n",
       "        <matplotlib.axes._subplots.AxesSubplot object at 0x7fd7b76a07b8>]],\n",
       "      dtype=object)"
      ]
     },
     "execution_count": 45,
     "metadata": {},
     "output_type": "execute_result"
    },
    {
     "data": {
      "image/png": "[encoded data removed]",
      "text/plain": [
       "<Figure size 432x288 with 6 Axes>"
      ]
     },
     "metadata": {
      "needs_background": "light"
     },
     "output_type": "display_data"
    }
   ],
   "source": [
    "test_accuracy.hist()"
   ]
  },
  {
   "cell_type": "code",
   "execution_count": 46,
   "metadata": {},
   "outputs": [
    {
     "name": "stderr",
     "output_type": "stream",
     "text": [
      "/opt/conda/lib/python3.6/site-packages/ipykernel_launcher.py:4: SettingWithCopyWarning: \n",
      "A value is trying to be set on a copy of a slice from a DataFrame\n",
      "\n",
      "See the caveats in the documentation: http://pandas.pydata.org/pandas-docs/stable/user_guide/indexing.html#returning-a-view-versus-a-copy\n",
      "  after removing the cwd from sys.path.\n"
     ]
    }
   ],
   "source": [
    "for i in ['Bird Measurer (Assessment)',\n",
    "       'Cart Balancer (Assessment)', 'Cauldron Filler (Assessment)',\n",
    "       'Chest Sorter (Assessment)', 'Mushroom Sorter (Assessment)']:\n",
    "    test_accuracy[i][test_accuracy[i].isnull()] = round(average_accuracy[i].mean())\n"
   ]
  },
  {
   "cell_type": "code",
   "execution_count": 47,
   "metadata": {},
   "outputs": [
    {
     "data": {
      "text/plain": [
       "array([[<matplotlib.axes._subplots.AxesSubplot object at 0x7fd7b75687f0>,\n",
       "        <matplotlib.axes._subplots.AxesSubplot object at 0x7fd7b75313c8>],\n",
       "       [<matplotlib.axes._subplots.AxesSubplot object at 0x7fd7b7555940>,\n",
       "        <matplotlib.axes._subplots.AxesSubplot object at 0x7fd7b74feeb8>],\n",
       "       [<matplotlib.axes._subplots.AxesSubplot object at 0x7fd7b74ab470>,\n",
       "        <matplotlib.axes._subplots.AxesSubplot object at 0x7fd7b74d39e8>]],\n",
       "      dtype=object)"
      ]
     },
     "execution_count": 47,
     "metadata": {},
     "output_type": "execute_result"
    },
    {
     "data": {
      "image/png": "[encoded data removed]",
      "text/plain": [
       "<Figure size 432x288 with 6 Axes>"
      ]
     },
     "metadata": {
      "needs_background": "light"
     },
     "output_type": "display_data"
    }
   ],
   "source": [
    "test_accuracy.hist()"
   ]
  },
  {
   "cell_type": "code",
   "execution_count": 48,
   "metadata": {},
   "outputs": [],
   "source": [
    "test_x = test_accuracy[['Bird Measurer (Assessment)','Cart Balancer (Assessment)','Cauldron Filler (Assessment)',\n",
    "                        'Chest Sorter (Assessment)','Mushroom Sorter (Assessment)']]\n",
    "test_id_pred = pd.Series(model.fit_predict(test_x))\n"
   ]
  },
  {
   "cell_type": "code",
   "execution_count": 49,
   "metadata": {},
   "outputs": [
    {
     "data": {
      "text/plain": [
       "<matplotlib.axes._subplots.AxesSubplot at 0x7fd7b738a400>"
      ]
     },
     "execution_count": 49,
     "metadata": {},
     "output_type": "execute_result"
    },
    {
     "data": {
      "image/png": "[encoded data removed]",
      "text/plain": [
       "<Figure size 432x288 with 1 Axes>"
      ]
     },
     "metadata": {
      "needs_background": "light"
     },
     "output_type": "display_data"
    }
   ],
   "source": [
    "test_id_pred.hist()"
   ]
  },
  {
   "cell_type": "code",
   "execution_count": 50,
   "metadata": {},
   "outputs": [
    {
     "data": {
      "text/plain": [
       "array([[<matplotlib.axes._subplots.AxesSubplot object at 0x7fd7b72a99b0>,\n",
       "        <matplotlib.axes._subplots.AxesSubplot object at 0x7fd7b72d0940>],\n",
       "       [<matplotlib.axes._subplots.AxesSubplot object at 0x7fd7b7278eb8>,\n",
       "        <matplotlib.axes._subplots.AxesSubplot object at 0x7fd7b7227470>],\n",
       "       [<matplotlib.axes._subplots.AxesSubplot object at 0x7fd7b72509e8>,\n",
       "        <matplotlib.axes._subplots.AxesSubplot object at 0x7fd7b71f6f60>]],\n",
       "      dtype=object)"
      ]
     },
     "execution_count": 50,
     "metadata": {},
     "output_type": "execute_result"
    },
    {
     "data": {
      "image/png": "[encoded data removed]",
      "text/plain": [
       "<Figure size 432x288 with 6 Axes>"
      ]
     },
     "metadata": {
      "needs_background": "light"
     },
     "output_type": "display_data"
    }
   ],
   "source": [
    "k = test_accuracy[test_id_pred == 0]\n",
    "k.hist()"
   ]
  },
  {
   "cell_type": "code",
   "execution_count": 51,
   "metadata": {},
   "outputs": [
    {
     "name": "stderr",
     "output_type": "stream",
     "text": [
      "/opt/conda/lib/python3.6/site-packages/ipykernel_launcher.py:1: SettingWithCopyWarning: \n",
      "A value is trying to be set on a copy of a slice from a DataFrame\n",
      "\n",
      "See the caveats in the documentation: http://pandas.pydata.org/pandas-docs/stable/user_guide/indexing.html#returning-a-view-versus-a-copy\n",
      "  \"\"\"Entry point for launching an IPython kernel.\n"
     ]
    }
   ],
   "source": [
    "test_accuracy['accuracy_group'][test_id_pred == 0] = '3'\n",
    "test_accuracy['accuracy_group'][test_id_pred == 1] = '2'\n",
    "test_accuracy['accuracy_group'][test_id_pred == 2] = '1'\n",
    "test_accuracy['accuracy_group'][test_id_pred == 3] = '0'"
   ]
  },
  {
   "cell_type": "code",
   "execution_count": null,
   "metadata": {},
   "outputs": [],
   "source": []
  },
  {
   "cell_type": "code",
   "execution_count": 52,
   "metadata": {},
   "outputs": [],
   "source": [
    "submission = test_accuracy[['installation_id','accuracy_group']]"
   ]
  },
  {
   "cell_type": "code",
   "execution_count": 53,
   "metadata": {},
   "outputs": [],
   "source": [
    "submission.to_csv('submission.csv', index=False)"
   ]
  }
 ],
 "metadata": {
  "kernelspec": {
   "display_name": "Python 3",
   "language": "python",
   "name": "python3"
  },
  "language_info": {
   "codemirror_mode": {
    "name": "ipython",
    "version": 3
   },
   "file_extension": ".py",
   "mimetype": "text/x-python",
   "name": "python",
   "nbconvert_exporter": "python",
   "pygments_lexer": "ipython3",
   "version": "3.7.2"
  }
 },
 "nbformat": 4,
 "nbformat_minor": 1
}
